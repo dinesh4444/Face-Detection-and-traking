{
 "cells": [
  {
   "cell_type": "code",
   "execution_count": 6,
   "id": "c4d02688",
   "metadata": {},
   "outputs": [
    {
     "name": "stdout",
     "output_type": "stream",
     "text": [
      "1\n",
      "2\n",
      "3\n",
      "4\n",
      "5\n",
      "6\n",
      "7\n",
      "7\n",
      "7\n",
      "7\n",
      "7\n",
      "7\n",
      "8\n",
      "9\n",
      "10\n",
      "11\n",
      "12\n",
      "13\n",
      "14\n",
      "15\n",
      "16\n",
      "17\n",
      "18\n",
      "19\n",
      "20\n",
      "21\n",
      "22\n",
      "23\n",
      "24\n",
      "25\n",
      "26\n",
      "27\n",
      "28\n",
      "29\n",
      "30\n",
      "Image Captured Sucessfull\n"
     ]
    }
   ],
   "source": [
    "import cv2\n",
    "import os\n",
    "\n",
    "#batabase Folder name\n",
    "database = \"Database\"\n",
    "name = \"champ\"   #subfolder\n",
    "\n",
    "#giving path\n",
    "path = os.path.join(database, name)\n",
    "#checking for database path otherwise it will make\n",
    "if not os.path.isdir(path):\n",
    "    os.mkdir(path)\n",
    "#assigning width and height for face    \n",
    "(width, height) = (130,100)\n",
    "\n",
    "#assigning haar cascade \n",
    "alg = \"haarcascade_frontalface_default.xml\"\n",
    "haar_cascade = cv2.CascadeClassifier(alg)\n",
    "\n",
    "#initializing camera\n",
    "cam = cv2.VideoCapture(0)         #videocapture(0) = Primary Camera, (1) = secondary cam or usb camera\n",
    "count = 1     \n",
    "\n",
    "#we are taking 30 images for database you can choose how many yoy want\n",
    "while count < 31:\n",
    "    print(count)\n",
    "    _,img = cam.read()        #reading frames from camera\n",
    "    grayImg = cv2.cvtColor(img, cv2.COLOR_BGR2GRAY)       #converting captured frsme to gray\n",
    "    face = haar_cascade.detectMultiScale(grayImg, 1.3, 4)  #1.3 = scale factor how much img size reduced at each img scale, 4=minNeighbour\n",
    "    #on given face we are iterating\n",
    "    for (x,y,w,h) in face:\n",
    "        cv2.rectangle(img, (x,y), (x+w, y+h), (0,255,0), 2)    #making boundries to the face\n",
    "        faceOnly = grayImg[y:y+h, x:x+w]\n",
    "        resizeImg = cv2.resize(faceOnly, (width, height))\n",
    "        cv2.imwrite(\"%s%s.jpg\" %(path, count), resizeImg)     #saving image at given path with image name 1.jpg likewise\n",
    "        count += 1\n",
    "    cv2.imshow(\"FaceDetection\", img)\n",
    "    key = cv2.waitKey(10)\n",
    "    if key == 27:\n",
    "        break\n",
    "        \n",
    "print(\"Image Captured Sucessfull\")\n",
    "cam.release()\n",
    "cv2.destroyAllWindows()\n",
    "        \n"
   ]
  },
  {
   "cell_type": "code",
   "execution_count": null,
   "id": "ca0da024",
   "metadata": {},
   "outputs": [],
   "source": []
  },
  {
   "cell_type": "code",
   "execution_count": null,
   "id": "48be1428",
   "metadata": {},
   "outputs": [],
   "source": []
  }
 ],
 "metadata": {
  "kernelspec": {
   "display_name": "Python 3 (ipykernel)",
   "language": "python",
   "name": "python3"
  },
  "language_info": {
   "codemirror_mode": {
    "name": "ipython",
    "version": 3
   },
   "file_extension": ".py",
   "mimetype": "text/x-python",
   "name": "python",
   "nbconvert_exporter": "python",
   "pygments_lexer": "ipython3",
   "version": "3.9.13"
  }
 },
 "nbformat": 4,
 "nbformat_minor": 5
}
