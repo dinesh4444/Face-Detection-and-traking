{
 "cells": [
  {
   "cell_type": "code",
   "execution_count": 1,
   "id": "ec871d90",
   "metadata": {},
   "outputs": [],
   "source": [
    "import cv2\n",
    "alg = \"haarcascade_frontalface_default.xml\"\n",
    "\n",
    "haar_cascade = cv2.CascadeClassifier(alg)\n",
    "cam = cv2.VideoCapture(0)\n",
    "while True:\n",
    "    _,img = cam.read()\n",
    "    grayImg = cv2.cvtColor(img, cv2.COLOR_BGR2GRAY)\n",
    "    face = haar_cascade.detectMultiScale(grayImg, 1.3, 4)\n",
    "    for (x,y,w,h) in face:\n",
    "        cv2.rectangle(img, (x,y), (x+w, y+h), (0,255,0), 2)\n",
    "        \n",
    "    cv2.imshow(\"FaceDetection\", img)\n",
    "    key = cv2.waitKey(10)\n",
    "    if key == 27:\n",
    "        break\n",
    "        \n",
    "cam.release()\n",
    "cv2.destroyAllWindows()"
   ]
  },
  {
   "cell_type": "code",
   "execution_count": null,
   "id": "12269bd1",
   "metadata": {},
   "outputs": [],
   "source": []
  }
 ],
 "metadata": {
  "kernelspec": {
   "display_name": "Python 3 (ipykernel)",
   "language": "python",
   "name": "python3"
  },
  "language_info": {
   "codemirror_mode": {
    "name": "ipython",
    "version": 3
   },
   "file_extension": ".py",
   "mimetype": "text/x-python",
   "name": "python",
   "nbconvert_exporter": "python",
   "pygments_lexer": "ipython3",
   "version": "3.9.13"
  }
 },
 "nbformat": 4,
 "nbformat_minor": 5
}
